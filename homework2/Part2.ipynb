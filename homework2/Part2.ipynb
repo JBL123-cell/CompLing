{
 "cells": [
  {
   "cell_type": "code",
   "execution_count": 39,
   "metadata": {},
   "outputs": [],
   "source": [
    "import re\n",
    "import json\n",
    "with open('fl.json', encoding='utf-8') as f:\n",
    "    data = json.load(f)"
   ]
  },
  {
   "cell_type": "markdown",
   "metadata": {},
   "source": [
    "1. Избавляемся от html-разметки \\n, которая встречается по всему тексту"
   ]
  },
  {
   "cell_type": "code",
   "execution_count": 40,
   "metadata": {},
   "outputs": [],
   "source": [
    "for i in range(len(data)):\n",
    "    data[str(i)]['text'] = re.sub(r'(\\n)', r' ', data[str(i)]['text'])"
   ]
  },
  {
   "cell_type": "markdown",
   "metadata": {},
   "source": [
    "2. Удаляем информация в {}"
   ]
  },
  {
   "cell_type": "code",
   "execution_count": 41,
   "metadata": {},
   "outputs": [],
   "source": [
    "for i in range(len(data)):\n",
    "    data[str(i)]['text'] = re.sub(r'\\{(.*?)\\}*|(.*?)\\}', r' ',  data[str(i)]['text'])"
   ]
  },
  {
   "cell_type": "markdown",
   "metadata": {},
   "source": [
    "3. В тексте часто всречаются древнегреческие, корейские, математические символы, назание велечин, а также английские переводы названий комет, которые в будущем при обработке текста значения иметь не будут, поэтому удалим их и оставим тольк русские слова и цифры"
   ]
  },
  {
   "cell_type": "code",
   "execution_count": 42,
   "metadata": {},
   "outputs": [],
   "source": [
    "for i in range(len(data)):\n",
    "    data[str(i)]['text'] = re.sub(r'[^а-яёа́е́и́о́у́ы́э́ю́я́А-Я0-9.,;]', r' ', data[str(i)]['text'])"
   ]
  },
  {
   "cell_type": "markdown",
   "metadata": {},
   "source": [
    "4. Удалим ненужные пробелы"
   ]
  },
  {
   "cell_type": "code",
   "execution_count": 43,
   "metadata": {},
   "outputs": [],
   "source": [
    "for i in range(len(data)):\n",
    "    data[str(i)]['text'] = re.sub(r'\\s+', r' ', data[str(i)]['text'])\n"
   ]
  },
  {
   "cell_type": "markdown",
   "metadata": {},
   "source": [
    "5. Так как это данные из википедии, то часто встречаются в скобочках перевод, перед которыми пишутся 'англ' или 'рус', которые неважны, поэтому удалим их."
   ]
  },
  {
   "cell_type": "code",
   "execution_count": 44,
   "metadata": {},
   "outputs": [],
   "source": [
    "for i in range(len(data)):\n",
    "    data[str(i)]['text'] = re.sub(r'(англ)|(рус)|(греч)|(сокр)', r' ', data[str(i)]['text'])"
   ]
  },
  {
   "cell_type": "markdown",
   "metadata": {},
   "source": [
    "6. В словаре встречаются номера, под которыми нет текста. Избавимся от них и добавим в список все отформатированные тексты."
   ]
  },
  {
   "cell_type": "code",
   "execution_count": 45,
   "metadata": {},
   "outputs": [],
   "source": [
    "lst = []\n",
    "for i in range(len(data)):\n",
    "    if len(data[str(i)]['text'].strip()) != 0:\n",
    "        lst.append(data[str(i)]['text'])"
   ]
  },
  {
   "cell_type": "code",
   "execution_count": 46,
   "metadata": {},
   "outputs": [],
   "source": [
    "import json\n",
    "data_new = {}\n",
    "for i in range(len(lst)):\n",
    "    data_new[i] = {'text': lst[i]}"
   ]
  },
  {
   "cell_type": "code",
   "execution_count": 47,
   "metadata": {},
   "outputs": [],
   "source": [
    "with open('fl5.json', 'w', encoding='utf-8') as file:\n",
    "    json.dump(data_new, file, indent=4, ensure_ascii=False)"
   ]
  }
 ],
 "metadata": {
  "kernelspec": {
   "display_name": "Python 3",
   "language": "python",
   "name": "python3"
  },
  "language_info": {
   "codemirror_mode": {
    "name": "ipython",
    "version": 3
   },
   "file_extension": ".py",
   "mimetype": "text/x-python",
   "name": "python",
   "nbconvert_exporter": "python",
   "pygments_lexer": "ipython3",
   "version": "3.8.5"
  }
 },
 "nbformat": 4,
 "nbformat_minor": 4
}
